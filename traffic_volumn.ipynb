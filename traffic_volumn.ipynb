{
 "cells": [
  {
   "cell_type": "code",
   "execution_count": 4,
   "metadata": {},
   "outputs": [
    {
     "name": "stdout",
     "output_type": "stream",
     "text": [
      "['CANAL AVENUE+WEST   17 STREET,+nyc' 'CANAL AVENUE' 'WEST   17 STREET'\n",
      " 'B' '05/17/2018 00:00:00' '05/21/2018 23:59:59' 'DOT IN-HOUSE PAVING']\n"
     ]
    }
   ],
   "source": [
    "import numpy as np\n",
    "##修建的地点，没有坐标,只有时间\n",
    "construction_data = np.load(r'data\\CONSTRUCTION_DATA.npy')\n",
    "print(construction_data[0])\n"
   ]
  },
  {
   "cell_type": "code",
   "execution_count": 5,
   "metadata": {},
   "outputs": [],
   "source": [
    "import numpy as np\n",
    "traffic_locations = np.load(r'data\\TRAFFIC_LOCATIONS.npy',allow_pickle = True).item()\n",
    "#for k,v in traffic_locations.items():\n",
    "    #print(k,\"->\",v)\n",
    "##3 avenue+east 154 street,+nyc -> ['3rd Ave & E 154th St, The Bronx, NY 10455, USA', 40.818951, -73.9140388]\n",
    "##3 avenue+east 155 street,+nyc -> ['3rd Ave & E 155th St, The Bronx, NY 10455, USA', 40.8195437, -73.91352789999999]"
   ]
  },
  {
   "cell_type": "markdown",
   "metadata": {},
   "source": [
    "test2 = np.load(r'data\\TRAFFIC_DATA.npy',allow_pickle = True).item()\n",
    "print(test2)\n",
    "<!-- for k,v in test2.items():\n",
    "    print(k,\"->\",v) -->\n"
   ]
  },
  {
   "cell_type": "code",
   "execution_count": 6,
   "metadata": {},
   "outputs": [
    {
     "name": "stdout",
     "output_type": "stream",
     "text": [
      "3 avenue+east 154 street,+nyc\n",
      "2014\n"
     ]
    }
   ],
   "source": [
    "traffic_data = np.load(r'data\\TRAFFIC_DATA.npy',allow_pickle = True)\n",
    "##traffic流量日期+时段\n",
    "print(traffic_data[0][3])\n",
    "test = traffic_data[0][6].split('/')\n",
    "print(test[2])\n",
    "#['2' '70376' '3 Avenue' '3 avenue+east 154 street,+nyc'\n",
    "# '3 avenue+east 155 street,+nyc' 'NB' '09/13/2014' '204' '177' '133' '126'\n",
    "# '141' '134' '121' '180' '223' '272' '386' '339' '513' '506' '520' '611'\n",
    "#'573' '546' '582' '528' '432' '328' '282' '240']"
   ]
  },
  {
   "cell_type": "code",
   "execution_count": 7,
   "metadata": {},
   "outputs": [],
   "source": [
    "construction_location = np.load(r'data\\CONSTRUCTION_LOCATIONS.npy',allow_pickle = True).item()\n",
    "#for k,v in construction_location.items():\n",
    "    #print(k,\"->\",v)\n",
    "##AVENUE K+EAST    9 STREET,+nyc -> ['Avenue K & E 9th St, Brooklyn, NY 11230, USA', 40.6221688, -73.9666549]\n",
    "##AVENUE K+EAST   10 STREET,+nyc -> ['Avenue K & E 10th St, Brooklyn, NY 11230, USA', 40.6222701, -73.96572069999999]"
   ]
  },
  {
   "cell_type": "code",
   "execution_count": null,
   "metadata": {},
   "outputs": [],
   "source": []
  },
  {
   "cell_type": "code",
   "execution_count": 8,
   "metadata": {},
   "outputs": [],
   "source": [
    "import numpy as np\n",
    "filter_results = np.load(r'data\\FILTER_RESULT.npy',allow_pickle = True).item()\n",
    "#for k,v in filter_results.items():\n",
    "#    print(k,\"->\",v)\n",
    "#用filter的值匹配construction的from,to日期\n",
    "constructions_dates = {}\n",
    "constructions_addr = list(filter_results.keys())\n",
    "index = 0\n",
    "for item in constructions_addr:\n",
    "    from_date = construction_data[index][4][0:10]\n",
    "    to_date = construction_data[index][5][0:10]\n",
    "    constructions_dates[item] = [from_date,to_date]\n",
    "    index = index + 1\n",
    "\n",
    "\n",
    "        \n",
    "#for v in filter_results.values(): v[0][0]\n",
    "\n"
   ]
  },
  {
   "cell_type": "code",
   "execution_count": 14,
   "metadata": {},
   "outputs": [],
   "source": [
    "#通过日期找到当前时间的流量在特定的地点           \n",
    "#print(constructions_dates.values())\n",
    "traffic_loc = {}\n",
    "for item in constructions_addr:\n",
    "    #一个item中的地址\n",
    "    locations = [i[0] for i in filter_results[item]]\n",
    "    #print(locations)\n",
    "    traffic_loc[item] = locations\n",
    "tra_join_cons_date = []\n",
    "for item in traffic_loc:\n",
    "    for locs in traffic_loc[item]:\n",
    "        locs = locs.lower()\n",
    "        for vol_loc in traffic_data:\n",
    "            if vol_loc[3] == locs or vol_loc[4] == locs:\n",
    "#比较年 月\n",
    "                #print(vol_loc[3])\n",
    "                vol_dates = vol_loc[6].split('/')\n",
    "                cons_dates_from = constructions_dates[item][0].split('/')\n",
    "                cons_dates_to = constructions_dates[item][1].split('/')\n",
    "                if vol_dates[0] <= cons_dates_from[0] and vol_dates[2] <= cons_dates_from[2]:\n",
    "                    tmp = list(vol_loc[7:])\n",
    "                    tmp.append('from')\n",
    "                    tmp.append(locs)\n",
    "                    tra_join_cons_date.append(tmp)\n",
    "                    continue\n",
    "                    \n",
    "                elif vol_dates[0] >= cons_dates_to[0] and vol_dates[2] >= cons_dates_to[2]:\n",
    "                    tmp = list(vol_loc[7:])\n",
    "                    tmp.append('to')\n",
    "                    tmp.append('loc')\n",
    "                    tra_join_cons_date.append(tmp)\n",
    "                    continue                    \n",
    "            \n",
    "                \n",
    "np.save('data/CONSTRUCTION_VOLUMN_RESULT.npy', tra_join_cons_date) "
   ]
  },
  {
   "cell_type": "code",
   "execution_count": 15,
   "metadata": {},
   "outputs": [
    {
     "name": "stdout",
     "output_type": "stream",
     "text": [
      "[['1124' '973' '778' ... '1610' 'from'\n",
      "  'joe dimaggio highway+27 street,+nyc']\n",
      " ['1014' '663' '466' ... '1493' 'from'\n",
      "  'joe dimaggio highway+27 street,+nyc']\n",
      " ['1232' '991' '808' ... '776' 'from'\n",
      "  'joe dimaggio highway+27 street,+nyc']\n",
      " ...\n",
      " ['71' '88' '49' ... '69' 'from' 'east 170 street+grant avenue,+nyc']\n",
      " ['126' '87' '93' ... '67' 'from' 'east 170 street+grant avenue,+nyc']\n",
      " ['142' '99' '104' ... '102' 'from' 'east 170 street+grant avenue,+nyc']]\n"
     ]
    }
   ],
   "source": [
    "test = np.load(r'data\\CONSTRUCTION_VOLUMN_RESULT.npy',allow_pickle = True)\n",
    "print(test)"
   ]
  },
  {
   "cell_type": "code",
   "execution_count": 5,
   "metadata": {},
   "outputs": [
    {
     "name": "stdout",
     "output_type": "stream",
     "text": [
      "1\n"
     ]
    }
   ],
   "source": []
  },
  {
   "cell_type": "code",
   "execution_count": null,
   "metadata": {},
   "outputs": [],
   "source": [
    "   "
   ]
  }
 ],
 "metadata": {
  "kernelspec": {
   "display_name": "Python 3",
   "language": "python",
   "name": "python3"
  },
  "language_info": {
   "codemirror_mode": {
    "name": "ipython",
    "version": 3
   },
   "file_extension": ".py",
   "mimetype": "text/x-python",
   "name": "python",
   "nbconvert_exporter": "python",
   "pygments_lexer": "ipython3",
   "version": "3.7.3"
  }
 },
 "nbformat": 4,
 "nbformat_minor": 4
}
