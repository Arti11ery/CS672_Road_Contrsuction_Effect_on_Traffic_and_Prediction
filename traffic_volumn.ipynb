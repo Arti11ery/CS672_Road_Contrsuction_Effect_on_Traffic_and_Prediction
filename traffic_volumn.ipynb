{
 "cells": [
  {
   "cell_type": "code",
   "execution_count": 4,
   "metadata": {},
   "outputs": [
    {
     "name": "stdout",
     "output_type": "stream",
     "text": [
      "['CANAL AVENUE+WEST   17 STREET,+nyc' 'CANAL AVENUE' 'WEST   17 STREET'\n",
      " 'B' '05/17/2018 00:00:00' '05/21/2018 23:59:59' 'DOT IN-HOUSE PAVING']\n"
     ]
    }
   ],
   "source": [
    "import numpy as np\n",
    "##修建的地点，没有坐标,只有时间\n",
    "construction_data = np.load(r'data\\CONSTRUCTION_DATA.npy')\n",
    "print(construction_data[0])\n"
   ]
  },
  {
   "cell_type": "code",
   "execution_count": 5,
   "metadata": {},
   "outputs": [],
   "source": [
    "import numpy as np\n",
    "traffic_locations = np.load(r'data\\TRAFFIC_LOCATIONS.npy',allow_pickle = True).item()\n",
    "#for k,v in traffic_locations.items():\n",
    "    #print(k,\"->\",v)\n",
    "##3 avenue+east 154 street,+nyc -> ['3rd Ave & E 154th St, The Bronx, NY 10455, USA', 40.818951, -73.9140388]\n",
    "##3 avenue+east 155 street,+nyc -> ['3rd Ave & E 155th St, The Bronx, NY 10455, USA', 40.8195437, -73.91352789999999]"
   ]
  },
  {
   "cell_type": "markdown",
   "metadata": {},
   "source": [
    "test2 = np.load(r'data\\TRAFFIC_DATA.npy',allow_pickle = True).item()\n",
    "print(test2)\n",
    "<!-- for k,v in test2.items():\n",
    "    print(k,\"->\",v) -->\n"
   ]
  },
  {
   "cell_type": "code",
   "execution_count": 35,
   "metadata": {},
   "outputs": [
    {
     "name": "stdout",
     "output_type": "stream",
     "text": [
      "3 avenue+east 154 street,+nyc\n",
      "30\n"
     ]
    }
   ],
   "source": [
    "traffic_data = np.load(r'data\\TRAFFIC_DATA.npy',allow_pickle = True)\n",
    "##traffic流量日期+时段\n",
    "print(traffic_data[0][3])\n",
    "test = traffic_data[0][6].split('/')\n",
    "vol_dates_datetime = dt.datetime(int(test[2]),int(test[0]),int(test[1]))\n",
    "vol_dates_datetime1 = dt.datetime(int(test[2]),int(test[0])+1,int(test[1]))\n",
    "days = (vol_dates_datetime1-vol_dates_datetime).days\n",
    "print(days)\n",
    "#['2' '70376' '3 Avenue' '3 avenue+east 154 street,+nyc'\n",
    "# '3 avenue+east 155 street,+nyc' 'NB' '09/13/2014' '204' '177' '133' '126'\n",
    "# '141' '134' '121' '180' '223' '272' '386' '339' '513' '506' '520' '611'\n",
    "#'573' '546' '582' '528' '432' '328' '282' '240']"
   ]
  },
  {
   "cell_type": "code",
   "execution_count": 33,
   "metadata": {},
   "outputs": [],
   "source": [
    "construction_location = np.load(r'data\\CONSTRUCTION_LOCATIONS.npy',allow_pickle = True).item()\n",
    "#for k,v in construction_location.items():\n",
    "    #print(k,\"->\",v)\n",
    "##AVENUE K+EAST    9 STREET,+nyc -> ['Avenue K & E 9th St, Brooklyn, NY 11230, USA', 40.6221688, -73.9666549]\n",
    "##AVENUE K+EAST   10 STREET,+nyc -> ['Avenue K & E 10th St, Brooklyn, NY 11230, USA', 40.6222701, -73.96572069999999]"
   ]
  },
  {
   "cell_type": "code",
   "execution_count": null,
   "metadata": {},
   "outputs": [],
   "source": []
  },
  {
   "cell_type": "code",
   "execution_count": 8,
   "metadata": {},
   "outputs": [],
   "source": [
    "import numpy as np\n",
    "filter_results = np.load(r'data\\FILTER_RESULT.npy',allow_pickle = True).item()\n",
    "#for k,v in filter_results.items():\n",
    "#    print(k,\"->\",v)\n",
    "#用filter的值匹配construction的from,to日期\n",
    "constructions_dates = {}\n",
    "constructions_addr = list(filter_results.keys())\n",
    "index = 0\n",
    "for item in constructions_addr:\n",
    "    from_date = construction_data[index][4][0:10]\n",
    "    to_date = construction_data[index][5][0:10]\n",
    "    constructions_dates[item] = [from_date,to_date]\n",
    "    index = index + 1\n",
    "\n",
    "\n",
    "        \n",
    "#for v in filter_results.values(): v[0][0]\n",
    "\n"
   ]
  },
  {
   "cell_type": "code",
   "execution_count": 50,
   "metadata": {},
   "outputs": [],
   "source": [
    "#print(constructions_dates.values()) import datetime as dt traffic_loc = {} for item in constructions_addr:\n",
    "\n",
    "#一个item中的地址\n",
    "locations = [i[0] for i in filter_results[item]]\n",
    "#print(locations)\n",
    "traffic_loc[item] = locations\n",
    "tra_join_cons_date = []\n",
    "for item in traffic_loc: \n",
    "    for locs in traffic_loc[item]: \n",
    "        locs = locs.lower() \n",
    "        for vol_loc in traffic_data: \n",
    "            if vol_loc[3] == locs or vol_loc[4] == locs:\n",
    "            #print(vol_loc[3])\n",
    "                vol_dates = vol_loc[6].split('/')\n",
    "                cons_dates_from = constructions_dates[item][0].split('/')\n",
    "                cons_dates_to = constructions_dates[item][1].split('/')\n",
    "                vol_dates_datetime = dt.datetime(int(vol_dates[2]),int(vol_dates[0]),int(vol_dates[1]))\n",
    "                cons_dates_from_datetime = dt.datetime(int(cons_dates_from[2]),int(cons_dates_from[0]),int(cons_dates_from[1]))\n",
    "                cons_dates_to_datetime = dt.datetime(int(cons_dates_to[2]),int(cons_dates_to[0]),int(cons_dates_to[1]))                                \n",
    "                from_vol_dates = (cons_dates_from_datetime - vol_dates_datetime).days\n",
    "                to_vol_dates = (vol_dates_datetime - cons_dates_to_datetime).days\n",
    "                during_from_dates = (vol_dates_datetime - cons_dates_from_datetime).days\n",
    "                during_to_dates = (cons_dates_to_datetime - vol_dates_datetime).days\n",
    "\n",
    "                if  from_vol_dates <= 15 and from_vol_dates > 0:\n",
    "                    key = []\n",
    "                    key.append('before')\n",
    "                    key.append(cons_dates_from_datetime)\n",
    "                    key.append(locs)\n",
    "                    key.append(vol_dates_datetime)\n",
    "                    values = list(vol_loc[7:])\n",
    "                    tra_join_cons_date.append([key,values])\n",
    "                    continue\n",
    "\n",
    "                elif to_vol_dates <= 15 and to_vol_dates > 0:\n",
    "                    key = []\n",
    "                    key.append('after')\n",
    "                    key.append(cons_dates_to_datetime)\n",
    "                    key.append(locs)\n",
    "                    key.append(vol_dates_datetime)\n",
    "                    values = list(vol_loc[7:])\n",
    "                    tra_join_cons_date.append([key,values])\n",
    "                    continue      \n",
    "\n",
    "                elif during_from_dates >= 0 and during_to_dates >= 0:\n",
    "                    key = []\n",
    "                    key.append('during')\n",
    "                    key.append([cons_dates_from_datetime,cons_dates_to_datetime])\n",
    "                    key.append(locs)\n",
    "                    key.append(vol_dates_datetime)\n",
    "                    values = list(vol_loc[7:])\n",
    "                    tra_join_cons_date.append([key,values])\n",
    "                    continue\n",
    "np.save('data/CONSTRUCTION_VOLUMN_RESULT.npy', tra_join_cons_date)\n",
    "#ex.[['before', datetime.datetime(2018, 3, 28, 0, 0), '47 avenue+190 street,+nyc', datetime.datetime(2018, 3, 15, 0, 0)],\n",
    "# ['1', '0', '2', '0', '0', '0', '8', '11', '14', '6', '5', '13', '20', '15', '29', '23', '19', '11', '16', '16', '11', '9', '7', '1']]\n",
    "#format: [[construction_status,construction_date,locations,volume_date][time_series]]"
   ]
  },
  {
   "cell_type": "code",
   "execution_count": 51,
   "metadata": {},
   "outputs": [
    {
     "name": "stdout",
     "output_type": "stream",
     "text": [
      "[[list(['during', [datetime.datetime(2017, 10, 6, 0, 0), datetime.datetime(2018, 1, 1, 0, 0)], 'winchester boulevard+88 avenue,+nyc', datetime.datetime(2017, 10, 7, 0, 0)])\n",
      "  list(['38', '24', '24', '15', '18', '16', '49', '96', '144', '168', '181', '186', '213', '202', '197', '202', '163', '158', '178', '141', '114', '102', '79', '76'])]\n",
      " [list(['during', [datetime.datetime(2017, 10, 6, 0, 0), datetime.datetime(2018, 1, 1, 0, 0)], 'winchester boulevard+88 avenue,+nyc', datetime.datetime(2017, 10, 7, 0, 0)])\n",
      "  list(['46', '27', '17', '13', '12', '15', '46', '69', '95', '115', '153', '158', '177', '172', '170', '193', '196', '197', '192', '173', '136', '104', '95', '85'])]\n",
      " [list(['during', [datetime.datetime(2017, 10, 6, 0, 0), datetime.datetime(2018, 1, 1, 0, 0)], 'winchester boulevard+88 avenue,+nyc', datetime.datetime(2017, 10, 8, 0, 0)])\n",
      "  list(['33', '23', '24', '21', '13', '20', '26', '62', '79', '97', '159', '165', '150', '157', '170', '144', '148', '152', '166', '121', '109', '77', '52', '49'])]\n",
      " ...\n",
      " [list(['before', datetime.datetime(2018, 3, 28, 0, 0), '47 avenue+190 street,+nyc', datetime.datetime(2018, 3, 14, 0, 0)])\n",
      "  list(['0', '3', '1', '0', '0', '0', '3', '13', '15', '3', '3', '7', '5', '5', '5', '11', '10', '11', '9', '5', '6', '1', '3', '1'])]\n",
      " [list(['before', datetime.datetime(2018, 3, 28, 0, 0), '47 avenue+190 street,+nyc', datetime.datetime(2018, 3, 15, 0, 0)])\n",
      "  list(['6', '2', '0', '0', '3', '4', '17', '38', '47', '23', '27', '21', '23', '14', '29', '30', '24', '26', '26', '23', '20', '10', '7', '2'])]\n",
      " [list(['before', datetime.datetime(2018, 3, 28, 0, 0), '47 avenue+190 street,+nyc', datetime.datetime(2018, 3, 15, 0, 0)])\n",
      "  list(['1', '0', '2', '0', '0', '0', '8', '11', '14', '6', '5', '13', '20', '15', '29', '23', '19', '11', '16', '16', '11', '9', '7', '1'])]]\n"
     ]
    }
   ],
   "source": [
    "test = np.load(r'data\\CONSTRUCTION_VOLUMN_RESULT.npy',allow_pickle = True)\n",
    "print(test)"
   ]
  },
  {
   "cell_type": "code",
   "execution_count": null,
   "metadata": {},
   "outputs": [],
   "source": []
  }
 ],
 "metadata": {
  "kernelspec": {
   "display_name": "Python 3",
   "language": "python",
   "name": "python3"
  },
  "language_info": {
   "codemirror_mode": {
    "name": "ipython",
    "version": 3
   },
   "file_extension": ".py",
   "mimetype": "text/x-python",
   "name": "python",
   "nbconvert_exporter": "python",
   "pygments_lexer": "ipython3",
   "version": "3.7.3"
  }
 },
 "nbformat": 4,
 "nbformat_minor": 4
}
